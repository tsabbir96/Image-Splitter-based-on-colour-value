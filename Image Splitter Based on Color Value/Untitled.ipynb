{
 "cells": [
  {
   "cell_type": "code",
   "execution_count": 1,
   "metadata": {},
   "outputs": [],
   "source": [
    "import pandas as pd\n",
    "import numpy as np\n",
    "import cv2\n",
    "import matplotlib.pyplot as plt\n",
    "from PIL import Image\n",
    "# K-Means Classification\n",
    "\n",
    "def classification(rawimage, clusters, outputimage):\n",
    "    original_image = cv2.imread(rawimage)\n",
    "    img = cv2.cvtColor(original_image, cv2.COLOR_BGR2RGB)\n",
    "    vectorized = img.reshape((-1, 3))\n",
    "    vectorized = np.float32(vectorized)\n",
    "    criteria = (cv2.TERM_CRITERIA_EPS + cv2.TERM_CRITERIA_MAX_ITER, 10, 1.0)\n",
    "    K = clusters\n",
    "    attempts = 10\n",
    "    ret, label, center = cv2.kmeans(vectorized, K, None, criteria, attempts, cv2.KMEANS_PP_CENTERS)\n",
    "    center = np.uint8(center)\n",
    "    res = center[label.flatten()]\n",
    "    result_image = res.reshape(img.shape)\n",
    "    figure_size = 15\n",
    "    cv2.imwrite(outputimage, result_image)\n",
    "    return result_image \n",
    "\n",
    "\n",
    "\n"
   ]
  },
  {
   "cell_type": "code",
   "execution_count": 2,
   "metadata": {},
   "outputs": [],
   "source": [
    "rimg = classification(\"DJI_0289.jpg\", 5, \"5Clusters.jpg\")"
   ]
  },
  {
   "cell_type": "code",
   "execution_count": 3,
   "metadata": {},
   "outputs": [
    {
     "name": "stdout",
     "output_type": "stream",
     "text": [
      "29\n",
      "74\n",
      "113\n",
      "162\n",
      "203\n"
     ]
    },
    {
     "data": {
      "image/png": "[encoded data removed]",
      "text/plain": [
       "<Figure size 432x288 with 1 Axes>"
      ]
     },
     "metadata": {
      "needs_background": "light"
     },
     "output_type": "display_data"
    }
   ],
   "source": [
    "image = []\n",
    "gray = cv2.cvtColor(rimg, cv2.COLOR_BGR2GRAY)\n",
    "hist = cv2.calcHist([gray],[0],None,[256],[0,256])\n",
    "colors = np.where(hist>5000)\n",
    "img_number = 0\n",
    "for color in colors[0]:\n",
    "    print(color)\n",
    "    split_image = rimg.copy()\n",
    "    split_image[np.where(gray != color)] = 0\n",
    "    cv2.imwrite(str(img_number)+\".jpg\",split_image)\n",
    "    img_number+=1\n",
    "plt.hist(gray.ravel(),256,[0,256])\n",
    "plt.savefig('plt')\n",
    "plt.show()"
   ]
  },
  {
   "cell_type": "code",
   "execution_count": 7,
   "metadata": {},
   "outputs": [
    {
     "name": "stdout",
     "output_type": "stream",
     "text": [
      "Empty DataFrame\n",
      "Columns: [pixel, 0, 1, 2, 3]\n",
      "Index: []\n"
     ]
    }
   ],
   "source": [
    "colours = [x for x in range(4)]\n",
    "col = [\"pixel\"] + colours\n",
    "pixels = pd.DataFrame(columns=col)\n",
    "\n"
   ]
  },
  {
   "cell_type": "code",
   "execution_count": 5,
   "metadata": {},
   "outputs": [
    {
     "name": "stdout",
     "output_type": "stream",
     "text": [
      "Empty DataFrame\n",
      "Columns: [0, 1, 2, 3]\n",
      "Index: []\n"
     ]
    }
   ],
   "source": []
  },
  {
   "cell_type": "code",
   "execution_count": 8,
   "metadata": {},
   "outputs": [
    {
     "name": "stdout",
     "output_type": "stream",
     "text": [
      "<PIL.MpoImagePlugin.MpoImageFile image mode=RGB size=4000x2250 at 0x20380D42C08>\n"
     ]
    }
   ],
   "source": [
    "import io\n",
    "img = Image.open(\"DJI_0289.jpg\")\n",
    "print(img)"
   ]
  },
  {
   "cell_type": "code",
   "execution_count": null,
   "metadata": {},
   "outputs": [],
   "source": []
  }
 ],
 "metadata": {
  "kernelspec": {
   "display_name": "Python 3",
   "language": "python",
   "name": "python3"
  },
  "language_info": {
   "codemirror_mode": {
    "name": "ipython",
    "version": 3
   },
   "file_extension": ".py",
   "mimetype": "text/x-python",
   "name": "python",
   "nbconvert_exporter": "python",
   "pygments_lexer": "ipython3",
   "version": "3.7.4"
  }
 },
 "nbformat": 4,
 "nbformat_minor": 2
}
